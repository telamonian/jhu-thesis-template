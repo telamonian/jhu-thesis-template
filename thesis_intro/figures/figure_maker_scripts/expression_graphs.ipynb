{
 "cells": [
  {
   "cell_type": "code",
   "execution_count": 9,
   "metadata": {},
   "outputs": [],
   "source": [
    "from lma.jupyter.setupJupyter import setupJupyter; setupJupyter(plotStyle='paper')\n",
    "\n",
    "import matplotlib as mpl\n",
    "import matplotlib.pyplot as plt\n",
    "import networkx as nx\n",
    "import pygraphviz as pgv"
   ]
  },
  {
   "cell_type": "code",
   "execution_count": 19,
   "metadata": {},
   "outputs": [],
   "source": [
    "def subsub(label, extra=None):\n",
    "    if label.count('_')==1:\n",
    "        if extra is None:\n",
    "            return '<{}<SUB>{}</SUB>>'.format(*label.split('_'))\n",
    "        else:\n",
    "            return '<{}<SUB>{}</SUB><br/><br/>{}>'.format(*label.split('_') + [extra])\n",
    "    else:\n",
    "        if extra is None:\n",
    "            return label\n",
    "        else:\n",
    "            return '%s\\n\\n%s' % (label, extra)\n",
    "\n",
    "def petrimat(places, transitions, pre, post, marking):\n",
    "    edgess = []\n",
    "    weightss = []\n",
    "    for p,flip in zip((pre, post), (1, -1)):\n",
    "        ix = p.nonzero()\n",
    "        edgess.append(np.stack((places[ix[1]], transitions[ix[0]])[::flip], axis=1))\n",
    "        weightss.append(p[ix])\n",
    "    return edgess,weightss\n",
    "\n",
    "def plotpetri(edgess, weightss, name=None):\n",
    "    a = pgv.AGraph(rankdir='LR', directed=True)\n",
    "    for es,ws in zip(edgess,weightss):\n",
    "        a.add_edges_from(es)\n",
    "\n",
    "        for e,w in zip(es,ws):\n",
    "            a.get_edge(*e).attr['label'] = w\n",
    "\n",
    "    for node,mark in zip(places, marking):\n",
    "        a.get_node(node).attr['label'] = subsub(node, mark)\n",
    "\n",
    "    for node in transitions:\n",
    "        a.get_node(node).attr['label'] = ''\n",
    "        a.get_node(node).attr['shape'] = 'box'\n",
    "        a.get_node(node).attr['height'] = .9\n",
    "        a.get_node(node).attr['width'] = .2\n",
    "    \n",
    "    if name is not None:\n",
    "        a.draw(f'{name}.pdf', prog='dot', format='pdf:cairo') #prog=neato|dot|twopi|circo|fdp|nop.\n",
    "#     a.write(f'{name}.dot')\n",
    "#     from lma.src.helper import subprocessHelper as subHlp\n",
    "#     subHlp.SyncCall(cmdline=f'')\n",
    "    return a\n"
   ]
  },
  {
   "cell_type": "code",
   "execution_count": 21,
   "metadata": {},
   "outputs": [],
   "source": [
    "edges = [\n",
    "('g_p', 'rna_p'),\n",
    "('rna_p', 'p'),\n",
    "('rna_p', 'null-rna_p'),\n",
    "('p', 'null-p'),\n",
    "]\n",
    "# edges = [(subsub(t[0]), subsub(t[1])) for t in edges]\n",
    "\n",
    "nodes = ['g_p', 'rna_p', 'p']\n",
    "nullNodes = ['null-rna_p', 'null-p']\n",
    "# nullNodes = [subsub(n) for n in nullNodes]\n",
    "\n",
    "# g = nx.MultiDiGraph()\n",
    "# g.add_edges_from(edges)\n",
    "\n",
    "a = pgv.AGraph(rankdir='LR', directed=True)\n",
    "a.add_edges_from(edges)\n",
    "# a = nx.nx_agraph.to_agraph(g, rankdir='LR')\n",
    "# a.attr['rankdir'] = \"LR\"\n",
    "\n",
    "for node in nullNodes:\n",
    "    a.get_node(node).attr['style'] = 'invis'\n",
    "for node in nodes:\n",
    "    a.get_node(node).attr['label'] = subsub(node)\n",
    "\n",
    "# a.write('expression_simple_graph.dot')\n",
    "a.draw('../simple_expression_digraph.pdf', prog='dot', format='pdf:cairo') #prog=neato|dot|twopi|circo|fdp|nop."
   ]
  },
  {
   "cell_type": "code",
   "execution_count": 14,
   "metadata": {},
   "outputs": [],
   "source": [
    "places = np.array([\n",
    "    'g_p', \n",
    "    'rna_p', \n",
    "    'p', \n",
    "])\n",
    "transitions = np.array([\n",
    "    'g_p->rna_p', \n",
    "    'rna_p->p', \n",
    "    'rna_p->', \n",
    "    'p->', \n",
    "])\n",
    "\n",
    "pre = np.array([\n",
    "    [1, 0, 0],\n",
    "    [0, 1, 0],\n",
    "    [0, 1, 0],\n",
    "    [0, 0, 1],\n",
    "])\n",
    "\n",
    "post = np.array([\n",
    "    [1, 1, 0],\n",
    "    [0, 1, 1],\n",
    "    [0, 0, 0],\n",
    "    [0, 0, 0],\n",
    "])\n",
    "\n",
    "marking = [1, 0, 0]\n",
    "\n",
    "edgess,weightss = petrimat(places, transitions, pre, post, marking)\n",
    "a = plotpetri(edgess, weightss, name='../simple_expression_petri_net')"
   ]
  },
  {
   "cell_type": "code",
   "execution_count": 18,
   "metadata": {},
   "outputs": [],
   "source": [
    "places = np.array([\n",
    "    'g_p', \n",
    "    'rna_p', \n",
    "    'p', \n",
    "    \n",
    "    'p_2', \n",
    "    'p_2g_p'\n",
    "])\n",
    "transitions = np.array([\n",
    "    'g_p->rna_p', \n",
    "    'rna_p->p', \n",
    "    'rna_p->', \n",
    "    'p->', \n",
    "    \n",
    "    'p+p->p_2', \n",
    "    'p_2->p+p',\n",
    "    'p_2+g_p->p_2g_p',\n",
    "    'p_2g_p->p_2+g_p'\n",
    "])\n",
    "\n",
    "pre = np.array([\n",
    "    [1, 0, 0, 0, 0],\n",
    "    [0, 1, 0, 0, 0],\n",
    "    [0, 1, 0, 0, 0],\n",
    "    [0, 0, 1, 0, 0],\n",
    "    \n",
    "    [0, 0, 2, 0, 0],\n",
    "    [0, 0, 0, 1, 0],\n",
    "    [1, 0, 0, 1, 0],\n",
    "    [0, 0, 0, 0, 1],\n",
    "])\n",
    "\n",
    "post = np.array([\n",
    "    [1, 1, 0, 0, 0],\n",
    "    [0, 1, 1, 0, 0],\n",
    "    [0, 0, 0, 0, 0],\n",
    "    [0, 0, 0, 0, 0],\n",
    "    \n",
    "    [0, 0, 0, 1, 0],\n",
    "    [0, 0, 2, 0, 0],\n",
    "    [0, 0, 0, 0, 1],\n",
    "    [1, 0, 0, 1, 0],\n",
    "])\n",
    "\n",
    "marking = [1, 0, 0, 0, 0]\n",
    "\n",
    "edgess,weightss = petrimat(places, transitions, pre, post, marking)\n",
    "a = plotpetri(edgess, weightss)\n",
    "\n",
    "# special handling of p_2g_p label\n",
    "a.get_node('p_2g_p').attr['label'] = '<p<SUB>2</SUB>g<SUB>p</SUB><br/><br/>{}>'.format(marking[4])\n",
    "\n",
    "# draw\n",
    "name = '../self_regulating_expression_petri_net'\n",
    "a.draw(f'{name}.pdf', prog='dot', format='pdf:cairo')"
   ]
  },
  {
   "cell_type": "markdown",
   "metadata": {},
   "source": [
    "# scratch"
   ]
  },
  {
   "cell_type": "code",
   "execution_count": 2,
   "metadata": {},
   "outputs": [
    {
     "name": "stdout",
     "output_type": "stream",
     "text": [
      " 1 &  0 &  0 &  0 &  0 \\\\\n",
      " 0 &  1 &  0 &  0 &  0 \\\\\n",
      " 0 &  1 &  0 &  0 &  0 \\\\\n",
      " 0 &  0 &  1 &  0 &  0 \\\\\n",
      " 0 &  0 &  2 &  0 &  0 \\\\\n",
      " 0 &  0 &  0 &  1 &  0 \\\\\n",
      " 1 &  0 &  0 &  1 &  0 \\\\\n",
      " 0 &  0 &  0 &  0 &  1 \\\\\n",
      "\n",
      " 1 &  1 &  0 &  0 &  0 \\\\\n",
      " 0 &  1 &  1 &  0 &  0 \\\\\n",
      " 0 &  0 &  0 &  0 &  0 \\\\\n",
      " 0 &  0 &  0 &  0 &  0 \\\\\n",
      " 0 &  0 &  0 &  1 &  0 \\\\\n",
      " 0 &  0 &  2 &  0 &  0 \\\\\n",
      " 0 &  0 &  0 &  0 &  1 \\\\\n",
      " 1 &  0 &  0 &  1 &  0 \\\\\n",
      "\n"
     ]
    }
   ],
   "source": [
    "from nppretty import formatArrayTex\n",
    "\n",
    "print(formatArrayTex(pre))\n",
    "print(formatArrayTex(post))"
   ]
  },
  {
   "cell_type": "markdown",
   "metadata": {},
   "source": [
    " 1 &  0 &  0 &  0 &  0 \\\\\n",
    " 0 &  1 &  0 &  0 &  0 \\\\\n",
    " 0 &  1 &  0 &  0 &  0 \\\\\n",
    " 0 &  0 &  1 &  0 &  0 \\\\\n",
    " 0 &  0 &  2 &  0 &  0 \\\\\n",
    " 0 &  0 &  0 &  1 &  0 \\\\\n",
    " 1 &  0 &  0 &  1 &  0 \\\\\n",
    " 0 &  0 &  0 &  0 &  1\n",
    "\n",
    " 1 &  1 &  0 &  0 &  0 \\\\\n",
    " 0 &  1 &  1 &  0 &  0 \\\\\n",
    " 0 &  0 &  0 &  0 &  0 \\\\\n",
    " 0 &  0 &  0 &  0 &  0 \\\\\n",
    " 0 &  0 &  0 &  1 &  0 \\\\\n",
    " 0 &  0 &  2 &  0 &  0 \\\\\n",
    " 0 &  0 &  0 &  0 &  1 \\\\\n",
    " 1 &  0 &  0 &  1 &  0"
   ]
  },
  {
   "cell_type": "code",
   "execution_count": 30,
   "metadata": {},
   "outputs": [],
   "source": [
    "b = a.add_subgraph('sub', rankdir='LR')"
   ]
  },
  {
   "cell_type": "code",
   "execution_count": 57,
   "metadata": {},
   "outputs": [
    {
     "name": "stdout",
     "output_type": "stream",
     "text": [
      "dot\n",
      " -Tpdf\n"
     ]
    }
   ],
   "source": [
    "from itertools import product\n",
    "\n",
    "\n",
    "\n",
    "# def toedges(mat, starts, ends):\n",
    "    \n",
    "    \n",
    "\n",
    "# places.reshape([1, -1]).dot(pre.T)\n",
    "\n",
    "edgePre = [\n",
    "    ('g_p', 'g_p-rna_p'),\n",
    "    ('rna_p', 'rna_p-p'),\n",
    "    ('rna_p', 'rna_p-'),\n",
    "    ('p', 'p-'),\n",
    "]\n",
    "edgePost = [\n",
    "    ('g_p-rna_p', 'g_p'),\n",
    "    ('rna_p-p', 'rna_p'),\n",
    "    ('g_p-rna_p', 'rna_p'),\n",
    "    ('rna_p-p', 'p'),\n",
    "]\n",
    "\n",
    "# g = nx.MultiDiGraph()\n",
    "# g.add_edges_from(edgePre)\n",
    "# g.add_edges_from(edgePost)\n",
    "# a = nx.nx_agraph.to_agraph(g)\n",
    "\n",
    "a = pgv.AGraph(rankdir='LR', directed=True)\n",
    "a.add_edges_from(edgePre)\n",
    "a.add_edges_from(edgePost)\n",
    "\n",
    "for edge in edgePre:\n",
    "    a.get_edge(*edge).attr['label'] = 1\n",
    "for edge in edgePost:\n",
    "    a.get_edge(*edge).attr['label'] = 1\n",
    "\n",
    "for node,mark in zip(places, marking):\n",
    "    a.get_node(node).attr['label'] = '%s\\n%s' % (node, mark)\n",
    "    \n",
    "for node in transitions:\n",
    "    a.get_node(node).attr['label'] = ''\n",
    "    a.get_node(node).attr['shape'] = 'box'\n",
    "    a.get_node(node).attr['height'] = .9\n",
    "    a.get_node(node).attr['width'] = .2\n",
    "    \n",
    "a.draw('expression_petri_net.pdf', prog='dot') #prog=neato|dot|twopi|circo|fdp|nop."
   ]
  },
  {
   "cell_type": "code",
   "execution_count": 14,
   "metadata": {},
   "outputs": [
    {
     "data": {
      "text/plain": [
       "[('g_p', 'g_p-rna_p'),\n",
       " ('g_p', 'rna_p-p'),\n",
       " ('g_p', 'rna_p-'),\n",
       " ('g_p', 'p-'),\n",
       " ('rna_p', 'g_p-rna_p'),\n",
       " ('rna_p', 'rna_p-p'),\n",
       " ('rna_p', 'rna_p-'),\n",
       " ('rna_p', 'p-'),\n",
       " ('p', 'g_p-rna_p'),\n",
       " ('p', 'rna_p-p'),\n",
       " ('p', 'rna_p-'),\n",
       " ('p', 'p-')]"
      ]
     },
     "execution_count": 14,
     "metadata": {},
     "output_type": "execute_result"
    }
   ],
   "source": [
    "edges"
   ]
  },
  {
   "cell_type": "code",
   "execution_count": 10,
   "metadata": {},
   "outputs": [
    {
     "name": "stdout",
     "output_type": "stream",
     "text": [
      "> \u001b[0;32m<ipython-input-9-59e1a7b53231>\u001b[0m(3)\u001b[0;36msubsub\u001b[0;34m()\u001b[0m\n",
      "\u001b[0;32m      1 \u001b[0;31m\u001b[0;32mdef\u001b[0m \u001b[0msubsub\u001b[0m\u001b[0;34m(\u001b[0m\u001b[0mlabel\u001b[0m\u001b[0;34m)\u001b[0m\u001b[0;34m:\u001b[0m\u001b[0;34m\u001b[0m\u001b[0m\n",
      "\u001b[0m\u001b[0;32m      2 \u001b[0;31m    \u001b[0;32mif\u001b[0m \u001b[0;34m'_'\u001b[0m \u001b[0;32min\u001b[0m \u001b[0mlabel\u001b[0m\u001b[0;34m:\u001b[0m\u001b[0;34m\u001b[0m\u001b[0m\n",
      "\u001b[0m\u001b[0;32m----> 3 \u001b[0;31m        \u001b[0;32mreturn\u001b[0m \u001b[0;34m'%s<SUB>%s</SUB>'\u001b[0m \u001b[0;34m%\u001b[0m \u001b[0mlabel\u001b[0m\u001b[0;34m.\u001b[0m\u001b[0msplit\u001b[0m\u001b[0;34m(\u001b[0m\u001b[0;34m'_'\u001b[0m\u001b[0;34m)\u001b[0m\u001b[0;34m\u001b[0m\u001b[0m\n",
      "\u001b[0m\u001b[0;32m      4 \u001b[0;31m    \u001b[0;32melse\u001b[0m\u001b[0;34m:\u001b[0m\u001b[0;34m\u001b[0m\u001b[0m\n",
      "\u001b[0m\u001b[0;32m      5 \u001b[0;31m        \u001b[0;32mreturn\u001b[0m \u001b[0mlabel\u001b[0m\u001b[0;34m\u001b[0m\u001b[0m\n",
      "\u001b[0m\n"
     ]
    },
    {
     "name": "stdin",
     "output_type": "stream",
     "text": [
      "ipdb>  label\n"
     ]
    },
    {
     "name": "stdout",
     "output_type": "stream",
     "text": [
      "'g_p'\n"
     ]
    },
    {
     "name": "stdin",
     "output_type": "stream",
     "text": [
      "ipdb>  label.split('_')\n"
     ]
    },
    {
     "name": "stdout",
     "output_type": "stream",
     "text": [
      "['g', 'p']\n"
     ]
    },
    {
     "name": "stdin",
     "output_type": "stream",
     "text": [
      "ipdb>  p '%s<SUB>%s</SUB>' % [1, 2]\n"
     ]
    },
    {
     "name": "stdout",
     "output_type": "stream",
     "text": [
      "*** TypeError: not enough arguments for format string\n"
     ]
    },
    {
     "name": "stdin",
     "output_type": "stream",
     "text": [
      "ipdb>  p '%s<SUB>%s</SUB>' % [1, 2],2\n"
     ]
    },
    {
     "name": "stdout",
     "output_type": "stream",
     "text": [
      "*** TypeError: not enough arguments for format string\n"
     ]
    },
    {
     "name": "stdin",
     "output_type": "stream",
     "text": [
      "ipdb>  p '%s<SUB>%s</SUB>' % (1, 2)\n"
     ]
    },
    {
     "name": "stdout",
     "output_type": "stream",
     "text": [
      "'1<SUB>2</SUB>'\n"
     ]
    },
    {
     "name": "stdin",
     "output_type": "stream",
     "text": [
      "ipdb>  exit\n"
     ]
    }
   ],
   "source": [
    "%debug"
   ]
  },
  {
   "cell_type": "code",
   "execution_count": 2,
   "metadata": {},
   "outputs": [],
   "source": [
    "g = nx.MultiDiGraph()\n",
    "g.add_edges_from(edges)\n",
    "\n",
    "# a.add_subgraph()"
   ]
  },
  {
   "cell_type": "code",
   "execution_count": 34,
   "metadata": {},
   "outputs": [],
   "source": [
    "a = pgv.AGraph(rankdir='LR')\n",
    "# a.add_edges_from()\n",
    "# a.add_edges_from([('DNA', 'DNA'), ('DNA', 'RNA'), ('RNA', 'protein')])"
   ]
  },
  {
   "cell_type": "code",
   "execution_count": 28,
   "metadata": {},
   "outputs": [
    {
     "data": {
      "text/plain": [
       "pygraphviz.agraph.Edge"
      ]
     },
     "execution_count": 28,
     "metadata": {},
     "output_type": "execute_result"
    }
   ],
   "source": [
    "type(a.edges()[0])"
   ]
  },
  {
   "cell_type": "code",
   "execution_count": 4,
   "metadata": {},
   "outputs": [],
   "source": [
    "a = nx.nx_agraph.to_agraph(g)\n",
    "for etup in weakEdges:\n",
    "    a.get_edge(*etup).attr['style'] = 'dashed'\n",
    "\n",
    "a.draw('test2.png', prog='circo')"
   ]
  },
  {
   "cell_type": "code",
   "execution_count": 8,
   "metadata": {},
   "outputs": [
    {
     "data": {
      "image/png": "[encoded data removed]",
      "text/plain": [
       "<matplotlib.figure.Figure at 0x11a133898>"
      ]
     },
     "metadata": {
      "image/png": {
       "height": 139,
       "width": 150
      }
     },
     "output_type": "display_data"
    }
   ],
   "source": [
    "pos = nx.layout.circular_layout(g)\n",
    "\n",
    "node_sizes = [3 + 10 * i for i in range(len(g))]\n",
    "m = g.number_of_edges()\n",
    "edge_colors = range(2, m + 2)\n",
    "edge_alphas = [(5 + i) / (m + 4) for i in range(m)]\n",
    "\n",
    "nodes = nx.draw_networkx_nodes(g, pos, node_size=500, node_color='w', edgecolors='k')\n",
    "edges = nx.draw_networkx_edges(g, pos, node_size=500, arrowstyle='->',\n",
    "                               arrowsize=25, #edge_color=edge_colors,\n",
    "                               edge_cmap=plt.cm.Blues, width=2)\n",
    "# set alpha value for each edge\n",
    "# for i in range(m):\n",
    "#     edges[i].set_alpha(edge_alphas[i])\n",
    "\n",
    "pc = mpl.collections.PatchCollection(edges, cmap=plt.cm.Blues)\n",
    "pc.set_array(edge_colors)\n",
    "\n",
    "ax = plt.gca()\n",
    "ax.set_axis_off()\n",
    "plt.show()"
   ]
  },
  {
   "cell_type": "code",
   "execution_count": 48,
   "metadata": {},
   "outputs": [
    {
     "data": {
      "text/plain": [
       "[FileFinder('/Users/tel/git/pyphase/pyphase/tests')]"
      ]
     },
     "execution_count": 48,
     "metadata": {},
     "output_type": "execute_result"
    }
   ],
   "source": [
    "import pkgutil\n",
    "list(pkgutil.iter_importers('pyphase.tests.sim.sim'))"
   ]
  },
  {
   "cell_type": "code",
   "execution_count": 50,
   "metadata": {},
   "outputs": [
    {
     "data": {
      "text/plain": [
       "['/Users/tel/git/pyphase/pyphase/tests/sim']"
      ]
     },
     "execution_count": 50,
     "metadata": {},
     "output_type": "execute_result"
    }
   ],
   "source": [
    "import pyphase.tests.sim\n",
    "\n",
    "pyphase.tests.sim.__path__"
   ]
  },
  {
   "cell_type": "code",
   "execution_count": 64,
   "metadata": {},
   "outputs": [
    {
     "data": {
      "text/plain": [
       "0"
      ]
     },
     "execution_count": 64,
     "metadata": {},
     "output_type": "execute_result"
    }
   ],
   "source": [
    "~-1"
   ]
  },
  {
   "cell_type": "code",
   "execution_count": null,
   "metadata": {},
   "outputs": [],
   "source": []
  }
 ],
 "metadata": {
  "kernelspec": {
   "display_name": "Python 3",
   "language": "python",
   "name": "python3"
  },
  "language_info": {
   "codemirror_mode": {
    "name": "ipython",
    "version": 3
   },
   "file_extension": ".py",
   "mimetype": "text/x-python",
   "name": "python",
   "nbconvert_exporter": "python",
   "pygments_lexer": "ipython3",
   "version": "3.6.5"
  }
 },
 "nbformat": 4,
 "nbformat_minor": 2
}
