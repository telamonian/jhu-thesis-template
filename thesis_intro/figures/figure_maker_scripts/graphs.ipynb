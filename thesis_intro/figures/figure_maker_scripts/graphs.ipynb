{
 "cells": [
  {
   "cell_type": "code",
   "execution_count": 1,
   "metadata": {},
   "outputs": [],
   "source": [
    "from lma.jupyter.setupJupyter import setupJupyter; setupJupyter(plotTheme='light', plotStyle='paper')\n",
    "\n",
    "import matplotlib as mpl\n",
    "import matplotlib.pyplot as plt\n",
    "import networkx as nx\n",
    "import pygraphviz as pgv"
   ]
  },
  {
   "cell_type": "code",
   "execution_count": 40,
   "metadata": {},
   "outputs": [],
   "source": [
    "weakEdges = [('RNA', 'DNA'), ('RNA', 'RNA'), ('RNA', 'protein')]\n",
    "strongEdges = [('DNA', 'DNA'), ('DNA', 'RNA'), ('DNA', 'protein')]"
   ]
  },
  {
   "cell_type": "code",
   "execution_count": 2,
   "metadata": {},
   "outputs": [],
   "source": [
    "g = nx.MultiDiGraph()\n",
    "weakEdges = [('RNA', 'DNA'), ('RNA', 'RNA'), ('RNA', 'protein')]\n",
    "strongEdges = [('DNA', 'DNA'), ('DNA', 'RNA'), ('DNA', 'protein')]\n",
    "g.add_edges_from(weakEdges)\n",
    "g.add_edges_from(strongEdges)\n",
    "\n",
    "# a.add_subgraph()"
   ]
  },
  {
   "cell_type": "code",
   "execution_count": 35,
   "metadata": {},
   "outputs": [],
   "source": [
    "a = pgv.AGraph()\n",
    "a.add_edges_from()\n",
    "a.add_edges_from([('DNA', 'DNA'), ('DNA', 'RNA'), ('RNA', 'protein')])"
   ]
  },
  {
   "cell_type": "code",
   "execution_count": 28,
   "metadata": {},
   "outputs": [
    {
     "data": {
      "text/plain": [
       "pygraphviz.agraph.Edge"
      ]
     },
     "execution_count": 28,
     "metadata": {},
     "output_type": "execute_result"
    }
   ],
   "source": [
    "type(a.edges()[0])"
   ]
  },
  {
   "cell_type": "code",
   "execution_count": 4,
   "metadata": {},
   "outputs": [],
   "source": [
    "a = nx.nx_agraph.to_agraph(g)\n",
    "for etup in weakEdges:\n",
    "    a.get_edge(*etup).attr['style'] = 'dashed'\n",
    "\n",
    "a.draw('test2.png', prog='circo')"
   ]
  },
  {
   "cell_type": "code",
   "execution_count": 12,
   "metadata": {},
   "outputs": [
    {
     "data": {
      "text/plain": [
       "['__class__',\n",
       " '__contains__',\n",
       " '__delattr__',\n",
       " '__dict__',\n",
       " '__dir__',\n",
       " '__doc__',\n",
       " '__enter__',\n",
       " '__eq__',\n",
       " '__exit__',\n",
       " '__format__',\n",
       " '__ge__',\n",
       " '__getattribute__',\n",
       " '__getitem__',\n",
       " '__gt__',\n",
       " '__hash__',\n",
       " '__init__',\n",
       " '__init_subclass__',\n",
       " '__iter__',\n",
       " '__le__',\n",
       " '__len__',\n",
       " '__lt__',\n",
       " '__module__',\n",
       " '__ne__',\n",
       " '__new__',\n",
       " '__reduce__',\n",
       " '__reduce_ex__',\n",
       " '__repr__',\n",
       " '__setattr__',\n",
       " '__sizeof__',\n",
       " '__str__',\n",
       " '__subclasshook__',\n",
       " '__weakref__',\n",
       " '_get_fh',\n",
       " '_get_prog',\n",
       " '_run_prog',\n",
       " '_update_handle_references',\n",
       " '_which',\n",
       " 'acyclic',\n",
       " 'add_cycle',\n",
       " 'add_edge',\n",
       " 'add_edges_from',\n",
       " 'add_node',\n",
       " 'add_nodes_from',\n",
       " 'add_path',\n",
       " 'add_subgraph',\n",
       " 'clear',\n",
       " 'close',\n",
       " 'copy',\n",
       " 'degree',\n",
       " 'degree_iter',\n",
       " 'delete_edge',\n",
       " 'delete_edges_from',\n",
       " 'delete_node',\n",
       " 'delete_nodes_from',\n",
       " 'delete_subgraph',\n",
       " 'directed',\n",
       " 'draw',\n",
       " 'edge_attr',\n",
       " 'edges',\n",
       " 'edges_iter',\n",
       " 'encoding',\n",
       " 'from_string',\n",
       " 'get_edge',\n",
       " 'get_name',\n",
       " 'get_node',\n",
       " 'get_subgraph',\n",
       " 'graph_attr',\n",
       " 'handle',\n",
       " 'has_edge',\n",
       " 'has_layout',\n",
       " 'has_neighbor',\n",
       " 'has_node',\n",
       " 'in_degree',\n",
       " 'in_degree_iter',\n",
       " 'in_edges',\n",
       " 'in_edges_iter',\n",
       " 'in_neighbors',\n",
       " 'is_directed',\n",
       " 'is_strict',\n",
       " 'is_undirected',\n",
       " 'iterdegree',\n",
       " 'iteredges',\n",
       " 'iterindegree',\n",
       " 'iterinedges',\n",
       " 'iterneighbors',\n",
       " 'iternodes',\n",
       " 'iteroutdegree',\n",
       " 'iteroutedges',\n",
       " 'iterpred',\n",
       " 'itersucc',\n",
       " 'layout',\n",
       " 'name',\n",
       " 'neighbors',\n",
       " 'neighbors_iter',\n",
       " 'node_attr',\n",
       " 'nodes',\n",
       " 'nodes_iter',\n",
       " 'number_of_edges',\n",
       " 'number_of_nodes',\n",
       " 'order',\n",
       " 'out_degree',\n",
       " 'out_degree_iter',\n",
       " 'out_edges',\n",
       " 'out_edges_iter',\n",
       " 'out_neighbors',\n",
       " 'predecessors',\n",
       " 'predecessors_iter',\n",
       " 'prepare_nbunch',\n",
       " 'read',\n",
       " 'remove_edge',\n",
       " 'remove_edges_from',\n",
       " 'remove_node',\n",
       " 'remove_nodes_from',\n",
       " 'remove_subgraph',\n",
       " 'reverse',\n",
       " 'strict',\n",
       " 'string',\n",
       " 'string_nop',\n",
       " 'subgraph',\n",
       " 'subgraph_parent',\n",
       " 'subgraph_root',\n",
       " 'subgraphs',\n",
       " 'subgraphs_iter',\n",
       " 'successors',\n",
       " 'successors_iter',\n",
       " 'to_directed',\n",
       " 'to_string',\n",
       " 'to_undirected',\n",
       " 'tred',\n",
       " 'unflatten',\n",
       " 'write']"
      ]
     },
     "execution_count": 12,
     "metadata": {},
     "output_type": "execute_result"
    }
   ],
   "source": [
    "dir(a)"
   ]
  },
  {
   "cell_type": "code",
   "execution_count": 8,
   "metadata": {},
   "outputs": [
    {
     "data": {
      "image/png": "[encoded data removed]",
      "text/plain": [
       "<matplotlib.figure.Figure at 0x11a133898>"
      ]
     },
     "metadata": {
      "image/png": {
       "height": 139,
       "width": 150
      }
     },
     "output_type": "display_data"
    }
   ],
   "source": [
    "pos = nx.layout.circular_layout(g)\n",
    "\n",
    "node_sizes = [3 + 10 * i for i in range(len(g))]\n",
    "m = g.number_of_edges()\n",
    "edge_colors = range(2, m + 2)\n",
    "edge_alphas = [(5 + i) / (m + 4) for i in range(m)]\n",
    "\n",
    "nodes = nx.draw_networkx_nodes(g, pos, node_size=500, node_color='w', edgecolors='k')\n",
    "edges = nx.draw_networkx_edges(g, pos, node_size=500, arrowstyle='->',\n",
    "                               arrowsize=25, #edge_color=edge_colors,\n",
    "                               edge_cmap=plt.cm.Blues, width=2)\n",
    "# set alpha value for each edge\n",
    "# for i in range(m):\n",
    "#     edges[i].set_alpha(edge_alphas[i])\n",
    "\n",
    "pc = mpl.collections.PatchCollection(edges, cmap=plt.cm.Blues)\n",
    "pc.set_array(edge_colors)\n",
    "\n",
    "ax = plt.gca()\n",
    "ax.set_axis_off()\n",
    "plt.show()"
   ]
  },
  {
   "cell_type": "code",
   "execution_count": 4,
   "metadata": {},
   "outputs": [
    {
     "name": "stdout",
     "output_type": "stream",
     "text": [
      "Help on function draw_networkx_nodes in module networkx.drawing.nx_pylab:\n",
      "\n",
      "draw_networkx_nodes(G, pos, nodelist=None, node_size=300, node_color='r', node_shape='o', alpha=1.0, cmap=None, vmin=None, vmax=None, ax=None, linewidths=None, edgecolors=None, label=None, **kwds)\n",
      "    Draw the nodes of the graph G.\n",
      "    \n",
      "    This draws only the nodes of the graph G.\n",
      "    \n",
      "    Parameters\n",
      "    ----------\n",
      "    G : graph\n",
      "       A networkx graph\n",
      "    \n",
      "    pos : dictionary\n",
      "       A dictionary with nodes as keys and positions as values.\n",
      "       Positions should be sequences of length 2.\n",
      "    \n",
      "    ax : Matplotlib Axes object, optional\n",
      "       Draw the graph in the specified Matplotlib axes.\n",
      "    \n",
      "    nodelist : list, optional\n",
      "       Draw only specified nodes (default G.nodes())\n",
      "    \n",
      "    node_size : scalar or array\n",
      "       Size of nodes (default=300).  If an array is specified it must be the\n",
      "       same length as nodelist.\n",
      "    \n",
      "    node_color : color string, or array of floats\n",
      "       Node color. Can be a single color format string (default='r'),\n",
      "       or a  sequence of colors with the same length as nodelist.\n",
      "       If numeric values are specified they will be mapped to\n",
      "       colors using the cmap and vmin,vmax parameters.  See\n",
      "       matplotlib.scatter for more details.\n",
      "    \n",
      "    node_shape :  string\n",
      "       The shape of the node.  Specification is as matplotlib.scatter\n",
      "       marker, one of 'so^>v<dph8' (default='o').\n",
      "    \n",
      "    alpha : float or array of floats\n",
      "       The node transparency.  This can be a single alpha value (default=1.0),\n",
      "       in which case it will be applied to all the nodes of color. Otherwise,\n",
      "       if it is an array, the elements of alpha will be applied to the colors\n",
      "       in order (cycling through alpha multiple times if necessary).\n",
      "    \n",
      "    cmap : Matplotlib colormap\n",
      "       Colormap for mapping intensities of nodes (default=None)\n",
      "    \n",
      "    vmin,vmax : floats\n",
      "       Minimum and maximum for node colormap scaling (default=None)\n",
      "    \n",
      "    linewidths : [None | scalar | sequence]\n",
      "       Line width of symbol border (default =1.0)\n",
      "    \n",
      "    edgecolors : [None | scalar | sequence]\n",
      "       Colors of node borders (default = node_color)\n",
      "    \n",
      "    label : [None| string]\n",
      "       Label for legend\n",
      "    \n",
      "    Returns\n",
      "    -------\n",
      "    matplotlib.collections.PathCollection\n",
      "        `PathCollection` of the nodes.\n",
      "    \n",
      "    Examples\n",
      "    --------\n",
      "    >>> G = nx.dodecahedral_graph()\n",
      "    >>> nodes = nx.draw_networkx_nodes(G, pos=nx.spring_layout(G))\n",
      "    \n",
      "    Also see the NetworkX drawing examples at\n",
      "    https://networkx.github.io/documentation/latest/auto_examples/index.html\n",
      "    \n",
      "    See Also\n",
      "    --------\n",
      "    draw()\n",
      "    draw_networkx()\n",
      "    draw_networkx_edges()\n",
      "    draw_networkx_labels()\n",
      "    draw_networkx_edge_labels()\n",
      "\n"
     ]
    }
   ],
   "source": [
    "help(nx.draw_networkx_nodes)"
   ]
  },
  {
   "cell_type": "code",
   "execution_count": null,
   "metadata": {},
   "outputs": [],
   "source": []
  }
 ],
 "metadata": {
  "kernelspec": {
   "display_name": "Python 3",
   "language": "python",
   "name": "python3"
  },
  "language_info": {
   "codemirror_mode": {
    "name": "ipython",
    "version": 3
   },
   "file_extension": ".py",
   "mimetype": "text/x-python",
   "name": "python",
   "nbconvert_exporter": "python",
   "pygments_lexer": "ipython3",
   "version": "3.6.5"
  }
 },
 "nbformat": 4,
 "nbformat_minor": 2
}
